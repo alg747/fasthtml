{
 "cells": [
  {
   "cell_type": "markdown",
   "metadata": {},
   "source": [
    "# MiniDataAPI Spec"
   ]
  },
  {
   "cell_type": "markdown",
   "metadata": {},
   "source": [
    "The `MiniDataAPI` is a persistence API specification that designed to be small and relatively easy to implement across a wide range of datastores. While early implementations have been SQL-based, the specification can be quickly implemented in key/value stores, document databases, and more."
   ]
  },
  {
   "cell_type": "code",
   "execution_count": 16,
   "metadata": {},
   "outputs": [],
   "source": [
    "#| hide\n",
    "from fasthtml.common import *"
   ]
  },
  {
   "cell_type": "markdown",
   "metadata": {},
   "source": [
    "## Connect/construct the database\n",
    "\n",
    "We connect or construct the database by passing in a string connecting to the database endpoint or a filepath representing the database's location. While this example is for a SQLite running in memory, other databases such as PostgreSQL, Redis, MongoDB, would instead use a URI pointing at the database's filepath or endpoint."
   ]
  },
  {
   "cell_type": "code",
   "execution_count": 17,
   "metadata": {},
   "outputs": [],
   "source": [
    "db = database('sqlite:///:memory:')"
   ]
  },
  {
   "cell_type": "code",
   "execution_count": 18,
   "metadata": {},
   "outputs": [],
   "source": [
    "#| hide\n",
    "class User: name:str; email: str; year_started:int\n",
    "users = db.create(User, pk='name')\n",
    "\n",
    "class Todo: id: int; title: str; detail: str; status: str; name: str\n",
    "# If no `pk` is provided, id is assumed to be the primary key\n",
    "todos = db.create(Todo) "
   ]
  },
  {
   "cell_type": "code",
   "execution_count": 19,
   "metadata": {},
   "outputs": [
    {
     "data": {
      "text/plain": [
       "[<Table todo (id, title, detail, status, name)>,\n",
       " <Table todo (id, title, detail, status, name)>,\n",
       " <Table todo (id, title, detail, status, name)>]"
      ]
     },
     "execution_count": 19,
     "metadata": {},
     "output_type": "execute_result"
    }
   ],
   "source": [
    "#| hide\n",
    "# Remove records\n",
    "[users.delete(o['name']) for o in users.rows]\n",
    "[todos.delete(o['id']) for o in todos.rows]"
   ]
  },
  {
   "cell_type": "markdown",
   "metadata": {},
   "source": [
    "## .insert()\n",
    "\n",
    "Add a new record to the database. Must accept Python classes, dataclasses, and dictionaries. Returns an instance of the new record."
   ]
  },
  {
   "cell_type": "code",
   "execution_count": null,
   "metadata": {},
   "outputs": [],
   "source": []
  },
  {
   "cell_type": "code",
   "execution_count": 20,
   "metadata": {},
   "outputs": [
    {
     "data": {
      "text/plain": [
       "User(name='Braden', email='b@example.com', year_started=2018)"
      ]
     },
     "execution_count": 20,
     "metadata": {},
     "output_type": "execute_result"
    }
   ],
   "source": [
    "class User:\n",
    "    def __init__(self, name:str, email: str, year_started: int):\n",
    "        self.name,self.email,self.year_started=name,email,year_started\n",
    "\n",
    "users.insert(User(name='Braden', email='b@example.com', year_started=2018))\n",
    "\n"
   ]
  },
  {
   "cell_type": "code",
   "execution_count": 21,
   "metadata": {},
   "outputs": [
    {
     "data": {
      "text/plain": [
       "User(name='Alma', email='a@example.com', year_started=2019)"
      ]
     },
     "execution_count": 21,
     "metadata": {},
     "output_type": "execute_result"
    }
   ],
   "source": [
    "from dataclasses import dataclass\n",
    "\n",
    "@dataclass\n",
    "class UserDC: name: str; email: str; year_started: int\n",
    "\n",
    "users.insert(UserDC(name='Alma', email='a@example.com', year_started=2019))\n",
    "\n"
   ]
  },
  {
   "cell_type": "code",
   "execution_count": 22,
   "metadata": {},
   "outputs": [
    {
     "data": {
      "text/plain": [
       "User(name='Charlie', email='c@example.com', year_started=2018)"
      ]
     },
     "execution_count": 22,
     "metadata": {},
     "output_type": "execute_result"
    }
   ],
   "source": [
    "users.insert({'name': 'Charlie', 'email': 'c@example.com', 'year_started': 2018})"
   ]
  },
  {
   "cell_type": "code",
   "execution_count": 23,
   "metadata": {},
   "outputs": [
    {
     "data": {
      "text/plain": [
       "Todo(id=3, title='Launch FastHTML', detail=None, status='closed', name='Charlie')"
      ]
     },
     "execution_count": 23,
     "metadata": {},
     "output_type": "execute_result"
    }
   ],
   "source": [
    "@dataclass\n",
    "class Todo: title: str; status: str; name: int\n",
    "\n",
    "# Now the todos table\n",
    "todos.insert(Todo(title='Write MiniDataAPI spec', status='open', name='Braden'))\n",
    "todos.insert(Todo(title='Implement SSE in FastHTML', status='open', name='Alma'))\n",
    "todo = todos.insert(Todo(title='Launch FastHTML', status='closed', name='Charlie'))\n",
    "todo\n"
   ]
  },
  {
   "cell_type": "markdown",
   "metadata": {},
   "source": [
    "## Square bracket search []\n",
    "\n",
    "Get a single record by entering a primary key into a table object within square brackets. "
   ]
  },
  {
   "cell_type": "code",
   "execution_count": 24,
   "metadata": {},
   "outputs": [
    {
     "data": {
      "text/plain": [
       "User(name='Alma', email='a@example.com', year_started=2019)"
      ]
     },
     "execution_count": 24,
     "metadata": {},
     "output_type": "execute_result"
    }
   ],
   "source": [
    "users['Alma']"
   ]
  },
  {
   "cell_type": "markdown",
   "metadata": {},
   "source": [
    "If no record is found, a `NotFoundError` error is raised. "
   ]
  },
  {
   "cell_type": "code",
   "execution_count": 25,
   "metadata": {},
   "outputs": [
    {
     "name": "stdout",
     "output_type": "stream",
     "text": [
      "User not found\n"
     ]
    }
   ],
   "source": [
    "try: users['David']\n",
    "except NotFoundError: print(f'User not found')"
   ]
  },
  {
   "cell_type": "markdown",
   "metadata": {},
   "source": [
    "Here's a demonstration of a ticket search, demonstrating how this works with non-string primary keys. "
   ]
  },
  {
   "cell_type": "code",
   "execution_count": 26,
   "metadata": {},
   "outputs": [
    {
     "data": {
      "text/plain": [
       "Todo(id=1, title='Write MiniDataAPI spec', detail=None, status='open', name='Braden')"
      ]
     },
     "execution_count": 26,
     "metadata": {},
     "output_type": "execute_result"
    }
   ],
   "source": [
    "todos[1]"
   ]
  },
  {
   "cell_type": "markdown",
   "metadata": {},
   "source": [
    "## Parentheses search ()\n",
    "\n",
    "Get zero to many records by entering values with parentheses searches. If nothing is in the parentheses, then everything is returned. "
   ]
  },
  {
   "cell_type": "code",
   "execution_count": 27,
   "metadata": {},
   "outputs": [
    {
     "name": "stdout",
     "output_type": "stream",
     "text": [
      "User(name='Braden', email='b@example.com', year_started=2018)\n",
      "User(name='Alma', email='a@example.com', year_started=2019)\n",
      "User(name='Charlie', email='c@example.com', year_started=2018)\n"
     ]
    }
   ],
   "source": [
    "for user in users():\n",
    "    print(user)"
   ]
  },
  {
   "cell_type": "markdown",
   "metadata": {},
   "source": [
    "We can order the results."
   ]
  },
  {
   "cell_type": "code",
   "execution_count": 28,
   "metadata": {},
   "outputs": [
    {
     "name": "stdout",
     "output_type": "stream",
     "text": [
      "User(name='Alma', email='a@example.com', year_started=2019)\n",
      "User(name='Braden', email='b@example.com', year_started=2018)\n",
      "User(name='Charlie', email='c@example.com', year_started=2018)\n"
     ]
    }
   ],
   "source": [
    "for user in users(order_by='name'):\n",
    "    print(user)"
   ]
  },
  {
   "cell_type": "markdown",
   "metadata": {},
   "source": [
    "We can filter on the results:"
   ]
  },
  {
   "cell_type": "code",
   "execution_count": 29,
   "metadata": {},
   "outputs": [
    {
     "name": "stdout",
     "output_type": "stream",
     "text": [
      "User(name='Alma', email='a@example.com', year_started=2019)\n"
     ]
    }
   ],
   "source": [
    "for user in users(where=\"year_started=2019\"):\n",
    "    print(user)"
   ]
  },
  {
   "cell_type": "markdown",
   "metadata": {},
   "source": [
    "## .update()\n",
    "\n",
    "Update an existing record of the database. Must accept Python dictionaries, dataclasses, and standard classes. Uses the primary key for identifying the record to be changed. Returns an instance of the updated record. "
   ]
  },
  {
   "cell_type": "code",
   "execution_count": 30,
   "metadata": {},
   "outputs": [
    {
     "ename": "TypeError",
     "evalue": "'User' object is not a mapping",
     "output_type": "error",
     "traceback": [
      "\u001b[0;31m---------------------------------------------------------------------------\u001b[0m",
      "\u001b[0;31mTypeError\u001b[0m                                 Traceback (most recent call last)",
      "Cell \u001b[0;32mIn[30], line 1\u001b[0m\n\u001b[0;32m----> 1\u001b[0m \u001b[43musers\u001b[49m\u001b[38;5;241;43m.\u001b[39;49m\u001b[43mupdate\u001b[49m\u001b[43m(\u001b[49m\u001b[43mUser\u001b[49m\u001b[43m(\u001b[49m\u001b[43mname\u001b[49m\u001b[38;5;241;43m=\u001b[39;49m\u001b[38;5;124;43m'\u001b[39;49m\u001b[38;5;124;43mAlma\u001b[39;49m\u001b[38;5;124;43m'\u001b[39;49m\u001b[43m,\u001b[49m\u001b[43m \u001b[49m\u001b[43myear_started\u001b[49m\u001b[38;5;241;43m=\u001b[39;49m\u001b[38;5;241;43m1899\u001b[39;49m\u001b[43m,\u001b[49m\u001b[43m \u001b[49m\u001b[43memail\u001b[49m\u001b[38;5;241;43m=\u001b[39;49m\u001b[38;5;124;43m'\u001b[39;49m\u001b[38;5;124;43ma@example.com\u001b[39;49m\u001b[38;5;124;43m'\u001b[39;49m\u001b[43m)\u001b[49m\u001b[43m)\u001b[49m\n",
      "File \u001b[0;32m~/.virtualenvs/fasthtml/lib/python3.10/site-packages/fastlite/kw.py:133\u001b[0m, in \u001b[0;36mupdate\u001b[0;34m(self, updates, pk_values, alter, conversions, **kwargs)\u001b[0m\n\u001b[1;32m    131\u001b[0m \u001b[38;5;28;01mif\u001b[39;00m is_dataclass(updates): updates \u001b[38;5;241m=\u001b[39m asdict(updates)\n\u001b[1;32m    132\u001b[0m xtra \u001b[38;5;241m=\u001b[39m \u001b[38;5;28mgetattr\u001b[39m(\u001b[38;5;28mself\u001b[39m, \u001b[38;5;124m'\u001b[39m\u001b[38;5;124mxtra_id\u001b[39m\u001b[38;5;124m'\u001b[39m, {})\n\u001b[0;32m--> 133\u001b[0m updates \u001b[38;5;241m=\u001b[39m {\u001b[38;5;241m*\u001b[39m\u001b[38;5;241m*\u001b[39mupdates, \u001b[38;5;241m*\u001b[39m\u001b[38;5;241m*\u001b[39mkwargs, \u001b[38;5;241m*\u001b[39m\u001b[38;5;241m*\u001b[39mxtra}\n\u001b[1;32m    134\u001b[0m \u001b[38;5;28;01mif\u001b[39;00m pk_values \u001b[38;5;129;01mis\u001b[39;00m \u001b[38;5;28;01mNone\u001b[39;00m: pk_values \u001b[38;5;241m=\u001b[39m [updates[o] \u001b[38;5;28;01mfor\u001b[39;00m o \u001b[38;5;129;01min\u001b[39;00m \u001b[38;5;28mself\u001b[39m\u001b[38;5;241m.\u001b[39mpks]\n\u001b[1;32m    135\u001b[0m \u001b[38;5;28mself\u001b[39m\u001b[38;5;241m.\u001b[39m_orig_update(pk_values, updates\u001b[38;5;241m=\u001b[39mupdates, alter\u001b[38;5;241m=\u001b[39malter, conversions\u001b[38;5;241m=\u001b[39mconversions)\n",
      "\u001b[0;31mTypeError\u001b[0m: 'User' object is not a mapping"
     ]
    }
   ],
   "source": [
    "users.update(User(name='Alma', year_started=1899, email='a@example.com'))\n"
   ]
  },
  {
   "cell_type": "markdown",
   "metadata": {},
   "source": [
    "If the primary key doesn't match a record, raise a `NoteFoundError`."
   ]
  },
  {
   "cell_type": "code",
   "execution_count": null,
   "metadata": {},
   "outputs": [
    {
     "name": "stdout",
     "output_type": "stream",
     "text": [
      "User not found\n"
     ]
    }
   ],
   "source": [
    "try: users.update(User(name='John', year_started=2024, email='j@example.com'))\n",
    "except NotFoundError: print('User not found')"
   ]
  },
  {
   "cell_type": "markdown",
   "metadata": {},
   "source": [
    "## .delete()\n",
    "\n",
    "Delete a record of the database. Uses the primary key for identifying the record to be removed. Does not return anything."
   ]
  },
  {
   "cell_type": "code",
   "execution_count": null,
   "metadata": {},
   "outputs": [
    {
     "name": "stdout",
     "output_type": "stream",
     "text": [
      "User not found\n"
     ]
    }
   ],
   "source": [
    "try: users.delete('John')\n",
    "except NotFoundError: print('User not found')"
   ]
  },
  {
   "cell_type": "markdown",
   "metadata": {},
   "source": [
    "If the primary key value can't be found, raises a `NotFoundError`."
   ]
  },
  {
   "cell_type": "code",
   "execution_count": null,
   "metadata": {},
   "outputs": [
    {
     "data": {
      "text/plain": [
       "<Table user (name, email, year_started)>"
      ]
     },
     "execution_count": 178,
     "metadata": {},
     "output_type": "execute_result"
    }
   ],
   "source": [
    "users.delete('Charlie')"
   ]
  },
  {
   "cell_type": "markdown",
   "metadata": {},
   "source": [
    "## .xtra()\n",
    "\n",
    "The xtra action adds a filter to queries and DDL statements. This makes it easier to limit users (or other objects) access to only things for which they have permission. \n",
    "\n",
    "For example, if we query all our records below, you can see todos for everyone."
   ]
  },
  {
   "cell_type": "code",
   "execution_count": null,
   "metadata": {},
   "outputs": [
    {
     "name": "stdout",
     "output_type": "stream",
     "text": [
      "Todo(id=1, title='Write MiniDataAPI spec', detail=None, status='open', name='Braden')\n",
      "Todo(id=2, title='Implement SSE in FastHTML', detail=None, status='open', name='Alma')\n",
      "Todo(id=3, title='Launch FastHTML', detail=None, status='closed', name='Charlie')\n"
     ]
    }
   ],
   "source": [
    "for o in todos():\n",
    "    print(o)"
   ]
  },
  {
   "cell_type": "markdown",
   "metadata": {},
   "source": [
    "Now we use `.xtra` to constrain results just to Charlie."
   ]
  },
  {
   "cell_type": "code",
   "execution_count": null,
   "metadata": {},
   "outputs": [],
   "source": [
    "todos.xtra(name='Charlie')"
   ]
  },
  {
   "cell_type": "markdown",
   "metadata": {},
   "source": [
    "Now if we loop over all the records again, only those assigned to Charlie will be displayed."
   ]
  },
  {
   "cell_type": "code",
   "execution_count": null,
   "metadata": {},
   "outputs": [
    {
     "name": "stdout",
     "output_type": "stream",
     "text": [
      "Todo(id=3, title='Launch FastHTML', detail=None, status='closed', name='Charlie')\n"
     ]
    }
   ],
   "source": [
    "for o in todos():\n",
    "    print(o)"
   ]
  },
  {
   "cell_type": "markdown",
   "metadata": {},
   "source": [
    "## Implementations\n",
    "\n",
    "- [fastlite](https://github.com/AnswerDotAI/fastlite) - The original implementation, only for Sqlite\n",
    "- [fastsql](https://github.com/AnswerDotAI/fastsql) - An SQL database agnostic implementation based on the excellent SQLAlchemy library."
   ]
  }
 ],
 "metadata": {
  "kernelspec": {
   "display_name": "python3",
   "language": "python",
   "name": "python3"
  },
  "language_info": {
   "name": "python",
   "version": "3.10.6"
  }
 },
 "nbformat": 4,
 "nbformat_minor": 2
}
