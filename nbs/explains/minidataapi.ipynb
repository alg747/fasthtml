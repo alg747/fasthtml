{
 "cells": [
  {
   "cell_type": "markdown",
   "metadata": {},
   "source": [
    "# MiniDataAPI Spec"
   ]
  },
  {
   "cell_type": "markdown",
   "metadata": {},
   "source": [
    "The `MiniDataAPI` is a persistence API specification that designed to be small and relatively easy to implement across a wide range of datastores. While early implementations have been SQL-based, the specification can be quickly implemented in key/value stores, document databases, and more."
   ]
  },
  {
   "cell_type": "code",
   "execution_count": 229,
   "metadata": {},
   "outputs": [],
   "source": [
    "#| hide\n",
    "from fasthtml.common import *"
   ]
  },
  {
   "cell_type": "markdown",
   "metadata": {},
   "source": [
    "## Connect/construct the database\n",
    "\n",
    "We connect or construct the database by passing in a string connecting to the database endpoint or a filepath representing the database's location. While this example is for a SQLite running in memory, other databases such as PostgreSQL, Redis, MongoDB, would instead use a URI pointing at the database's filepath or endpoint."
   ]
  },
  {
   "cell_type": "code",
   "execution_count": 230,
   "metadata": {},
   "outputs": [],
   "source": [
    "db = database('sqlite:///:memory:')"
   ]
  },
  {
   "cell_type": "markdown",
   "metadata": {},
   "source": [
    "## Creating the tables\n",
    "\n",
    "We use a `create()` method attached to `Database` object (`db` in our example) to create the tables. Depending on the database type, this method can include transforms - the ability to modify the tables."
   ]
  },
  {
   "cell_type": "code",
   "execution_count": 231,
   "metadata": {},
   "outputs": [
    {
     "data": {
      "text/plain": [
       "<Table user (name, email, year_started)>"
      ]
     },
     "execution_count": 231,
     "metadata": {},
     "output_type": "execute_result"
    }
   ],
   "source": [
    "class User: name:str; email: str; year_started:int\n",
    "users = db.create(User, pk='name')\n",
    "users"
   ]
  },
  {
   "cell_type": "markdown",
   "metadata": {},
   "source": [
    "From the table objects we can extract a Dataclass version of our tables. Usually this is given an singular uppercase version of our table name, which in this case is `User`."
   ]
  },
  {
   "cell_type": "code",
   "execution_count": 232,
   "metadata": {},
   "outputs": [],
   "source": [
    "UserDC = users.dataclass()"
   ]
  },
  {
   "cell_type": "markdown",
   "metadata": {},
   "source": [
    "If no `pk` is provided, id is assumed to be the primary key."
   ]
  },
  {
   "cell_type": "code",
   "execution_count": 233,
   "metadata": {},
   "outputs": [
    {
     "data": {
      "text/plain": [
       "<Table todo (id, title, detail, status, name)>"
      ]
     },
     "execution_count": 233,
     "metadata": {},
     "output_type": "execute_result"
    }
   ],
   "source": [
    "class Todo: id: int; title: str; detail: str; status: str; name: str\n",
    "todos = db.create(Todo) \n",
    "todos"
   ]
  },
  {
   "cell_type": "markdown",
   "metadata": {},
   "source": [
    "Let's extract the dataclass for `Todo`."
   ]
  },
  {
   "cell_type": "code",
   "execution_count": 234,
   "metadata": {},
   "outputs": [],
   "source": [
    "TodoDC = todos.dataclass()"
   ]
  },
  {
   "cell_type": "code",
   "execution_count": 235,
   "metadata": {},
   "outputs": [
    {
     "data": {
      "text/plain": [
       "[<Table todo (id, title, detail, status, name)>,\n",
       " <Table todo (id, title, detail, status, name)>,\n",
       " <Table todo (id, title, detail, status, name)>]"
      ]
     },
     "execution_count": 235,
     "metadata": {},
     "output_type": "execute_result"
    }
   ],
   "source": [
    "#| hide\n",
    "# Remove records\n",
    "[users.delete(o['name']) for o in users.rows]\n",
    "[todos.delete(o['id']) for o in todos.rows]"
   ]
  },
  {
   "cell_type": "markdown",
   "metadata": {},
   "source": [
    "## .insert()\n",
    "\n",
    "Add a new record to the database. We want to support as many types as possible, for now we have tests for Python classes, dataclasses, and dicts. Returns an instance of the new record."
   ]
  },
  {
   "cell_type": "markdown",
   "metadata": {},
   "source": [
    "Here's how to add a record using a Python class."
   ]
  },
  {
   "cell_type": "code",
   "execution_count": 236,
   "metadata": {},
   "outputs": [
    {
     "data": {
      "text/plain": [
       "User(name='Braden', email='b@example.com', year_started=2018)"
      ]
     },
     "execution_count": 236,
     "metadata": {},
     "output_type": "execute_result"
    }
   ],
   "source": [
    "users.insert(User(name='Braden', email='b@example.com', year_started=2018))\n",
    "\n"
   ]
  },
  {
   "cell_type": "markdown",
   "metadata": {},
   "source": [
    "Let's add another user, this time via a dataclass."
   ]
  },
  {
   "cell_type": "code",
   "execution_count": 237,
   "metadata": {},
   "outputs": [
    {
     "data": {
      "text/plain": [
       "User(name='Alma', email='a@example.com', year_started=2019)"
      ]
     },
     "execution_count": 237,
     "metadata": {},
     "output_type": "execute_result"
    }
   ],
   "source": [
    "users.insert(UserDC(name='Alma', email='a@example.com', year_started=2019))"
   ]
  },
  {
   "cell_type": "markdown",
   "metadata": {},
   "source": [
    "And now Charlie gets added via a Python dict."
   ]
  },
  {
   "cell_type": "code",
   "execution_count": 238,
   "metadata": {},
   "outputs": [
    {
     "data": {
      "text/plain": [
       "User(name='Charlie', email='c@example.com', year_started=2018)"
      ]
     },
     "execution_count": 238,
     "metadata": {},
     "output_type": "execute_result"
    }
   ],
   "source": [
    "users.insert({'name': 'Charlie', 'email': 'c@example.com', 'year_started': 2018})"
   ]
  },
  {
   "cell_type": "markdown",
   "metadata": {},
   "source": [
    "And now all three methods for TODOs"
   ]
  },
  {
   "cell_type": "code",
   "execution_count": 239,
   "metadata": {},
   "outputs": [
    {
     "data": {
      "text/plain": [
       "Todo(id=3, title='Launch FastHTML', detail=None, status='closed', name='Charlie')"
      ]
     },
     "execution_count": 239,
     "metadata": {},
     "output_type": "execute_result"
    }
   ],
   "source": [
    "\n",
    "todos.insert(Todo(title='Write MiniDataAPI spec', status='open', name='Braden'))\n",
    "todos.insert(TodoDC(title='Implement SSE in FastHTML', status='open', name='Alma'))\n",
    "todo = todos.insert(dict(title='Launch FastHTML', status='closed', name='Charlie'))\n",
    "todo"
   ]
  },
  {
   "cell_type": "markdown",
   "metadata": {},
   "source": [
    "## Square bracket search []\n",
    "\n",
    "Get a single record by entering a primary key into a table object within square brackets. Let's see if we can find Alma."
   ]
  },
  {
   "cell_type": "code",
   "execution_count": 240,
   "metadata": {},
   "outputs": [
    {
     "data": {
      "text/plain": [
       "User(name='Alma', email='a@example.com', year_started=2019)"
      ]
     },
     "execution_count": 240,
     "metadata": {},
     "output_type": "execute_result"
    }
   ],
   "source": [
    "users['Alma']"
   ]
  },
  {
   "cell_type": "markdown",
   "metadata": {},
   "source": [
    "If no record is found, a `NotFoundError` error is raised. Here we look for David, who hasn't yet been added to our users table."
   ]
  },
  {
   "cell_type": "code",
   "execution_count": 241,
   "metadata": {},
   "outputs": [
    {
     "name": "stdout",
     "output_type": "stream",
     "text": [
      "User not found\n"
     ]
    }
   ],
   "source": [
    "try: users['David']\n",
    "except NotFoundError: print(f'User not found')"
   ]
  },
  {
   "cell_type": "markdown",
   "metadata": {},
   "source": [
    "Here's a demonstration of a ticket search, demonstrating how this works with non-string primary keys. "
   ]
  },
  {
   "cell_type": "code",
   "execution_count": 242,
   "metadata": {},
   "outputs": [
    {
     "data": {
      "text/plain": [
       "Todo(id=1, title='Write MiniDataAPI spec', detail=None, status='open', name='Braden')"
      ]
     },
     "execution_count": 242,
     "metadata": {},
     "output_type": "execute_result"
    }
   ],
   "source": [
    "todos[1]"
   ]
  },
  {
   "cell_type": "markdown",
   "metadata": {},
   "source": [
    "## Parentheses search ()\n",
    "\n",
    "Get zero to many records by entering values with parentheses searches. If nothing is in the parentheses, then everything is returned. "
   ]
  },
  {
   "cell_type": "code",
   "execution_count": 243,
   "metadata": {},
   "outputs": [
    {
     "data": {
      "text/plain": [
       "[User(name='Braden', email='b@example.com', year_started=2018),\n",
       " User(name='Alma', email='a@example.com', year_started=2019),\n",
       " User(name='Charlie', email='c@example.com', year_started=2018)]"
      ]
     },
     "execution_count": 243,
     "metadata": {},
     "output_type": "execute_result"
    }
   ],
   "source": [
    "users()"
   ]
  },
  {
   "cell_type": "markdown",
   "metadata": {},
   "source": [
    "We can order the results."
   ]
  },
  {
   "cell_type": "code",
   "execution_count": 244,
   "metadata": {},
   "outputs": [
    {
     "data": {
      "text/plain": [
       "[User(name='Braden', email='b@example.com', year_started=2018),\n",
       " User(name='Alma', email='a@example.com', year_started=2019),\n",
       " User(name='Charlie', email='c@example.com', year_started=2018)]"
      ]
     },
     "execution_count": 244,
     "metadata": {},
     "output_type": "execute_result"
    }
   ],
   "source": [
    "users()"
   ]
  },
  {
   "cell_type": "markdown",
   "metadata": {},
   "source": [
    "We can filter on the results:"
   ]
  },
  {
   "cell_type": "code",
   "execution_count": 245,
   "metadata": {},
   "outputs": [
    {
     "data": {
      "text/plain": [
       "[User(name='Braden', email='b@example.com', year_started=2018),\n",
       " User(name='Alma', email='a@example.com', year_started=2019),\n",
       " User(name='Charlie', email='c@example.com', year_started=2018)]"
      ]
     },
     "execution_count": 245,
     "metadata": {},
     "output_type": "execute_result"
    }
   ],
   "source": [
    "users()"
   ]
  },
  {
   "cell_type": "markdown",
   "metadata": {},
   "source": [
    "## .update()\n",
    "\n",
    "Update an existing record of the database. Must accept Python dict, dataclasses, and standard classes. Uses the primary key for identifying the record to be changed. Returns an instance of the updated record. "
   ]
  },
  {
   "cell_type": "markdown",
   "metadata": {},
   "source": [
    "Here's with a normal Python class:"
   ]
  },
  {
   "cell_type": "code",
   "execution_count": 246,
   "metadata": {},
   "outputs": [
    {
     "data": {
      "text/plain": [
       "User(name='Alma', email='a@example.com', year_started=2099)"
      ]
     },
     "execution_count": 246,
     "metadata": {},
     "output_type": "execute_result"
    }
   ],
   "source": [
    "users.update(User(name='Alma', year_started=2099, email='a@example.com'))\n"
   ]
  },
  {
   "cell_type": "markdown",
   "metadata": {},
   "source": [
    "Now with a dataclass, sending Alma further in time:"
   ]
  },
  {
   "cell_type": "code",
   "execution_count": 247,
   "metadata": {},
   "outputs": [
    {
     "data": {
      "text/plain": [
       "User(name='Alma', email='a@example.com', year_started=2199)"
      ]
     },
     "execution_count": 247,
     "metadata": {},
     "output_type": "execute_result"
    }
   ],
   "source": [
    "users.update(UserDC(name='Alma', year_started=2199, email=\"a@example.com\"))"
   ]
  },
  {
   "cell_type": "markdown",
   "metadata": {},
   "source": [
    "If the primary key doesn't match a record, raise a `NoteFoundError`. \n",
    "\n",
    "John hasn't started with us yet so doesn't get the chance yet to travel in time."
   ]
  },
  {
   "cell_type": "code",
   "execution_count": 248,
   "metadata": {},
   "outputs": [
    {
     "name": "stdout",
     "output_type": "stream",
     "text": [
      "User not found\n"
     ]
    }
   ],
   "source": [
    "try: users.update(User(name='John', year_started=2024, email='j@example.com'))\n",
    "except NotFoundError: print('User not found')"
   ]
  },
  {
   "cell_type": "markdown",
   "metadata": {},
   "source": [
    "## .delete()\n",
    "\n",
    "Delete a record of the database. Uses the primary key for identifying the record to be removed. Returns a table object."
   ]
  },
  {
   "cell_type": "markdown",
   "metadata": {},
   "source": [
    "Charlie decides to not travel in time. He exits our little group."
   ]
  },
  {
   "cell_type": "code",
   "execution_count": 249,
   "metadata": {},
   "outputs": [
    {
     "data": {
      "text/plain": [
       "<Table user (name, email, year_started)>"
      ]
     },
     "execution_count": 249,
     "metadata": {},
     "output_type": "execute_result"
    }
   ],
   "source": [
    "users.delete('Charlie')"
   ]
  },
  {
   "cell_type": "markdown",
   "metadata": {},
   "source": [
    "If the primary key value can't be found, raises a `NotFoundError`.\n",
    "\n",
    "In John's case, he isn't time travelling with us yet so can't be removed."
   ]
  },
  {
   "cell_type": "code",
   "execution_count": 250,
   "metadata": {},
   "outputs": [
    {
     "name": "stdout",
     "output_type": "stream",
     "text": [
      "User not found\n"
     ]
    }
   ],
   "source": [
    "try: users.delete('John')\n",
    "except NotFoundError: print('User not found')"
   ]
  },
  {
   "cell_type": "markdown",
   "metadata": {},
   "source": [
    "## .xtra()\n",
    "\n",
    "The xtra action adds a filter to queries and DDL statements. This makes it easier to limit users (or other objects) access to only things for which they have permission. \n",
    "\n",
    "For example, if we query all our records below, you can see todos for everyone."
   ]
  },
  {
   "cell_type": "code",
   "execution_count": 251,
   "metadata": {},
   "outputs": [
    {
     "name": "stdout",
     "output_type": "stream",
     "text": [
      "Todo(id=1, title='Write MiniDataAPI spec', detail=None, status='open', name='Braden')\n",
      "Todo(id=2, title='Implement SSE in FastHTML', detail=None, status='open', name='Alma')\n",
      "Todo(id=3, title='Launch FastHTML', detail=None, status='closed', name='Charlie')\n"
     ]
    }
   ],
   "source": [
    "for o in todos():\n",
    "    print(o)"
   ]
  },
  {
   "cell_type": "markdown",
   "metadata": {},
   "source": [
    "Now we use `.xtra` to constrain results just to Charlie."
   ]
  },
  {
   "cell_type": "code",
   "execution_count": 252,
   "metadata": {},
   "outputs": [],
   "source": [
    "todos.xtra(name='Alma')"
   ]
  },
  {
   "cell_type": "markdown",
   "metadata": {},
   "source": [
    "Now if we loop over all the records again, only those assigned to Charlie will be displayed."
   ]
  },
  {
   "cell_type": "code",
   "execution_count": 253,
   "metadata": {},
   "outputs": [
    {
     "name": "stdout",
     "output_type": "stream",
     "text": [
      "Todo(id=2, title='Implement SSE in FastHTML', detail=None, status='open', name='Alma')\n"
     ]
    }
   ],
   "source": [
    "for o in todos():\n",
    "    print(o)"
   ]
  },
  {
   "cell_type": "markdown",
   "metadata": {},
   "source": [
    "## Implementations\n",
    "\n",
    "- [fastlite](https://github.com/AnswerDotAI/fastlite) - The original implementation, only for Sqlite\n",
    "- [fastsql](https://github.com/AnswerDotAI/fastsql) - An SQL database agnostic implementation based on the excellent SQLAlchemy library."
   ]
  }
 ],
 "metadata": {
  "kernelspec": {
   "display_name": "python3",
   "language": "python",
   "name": "python3"
  }
 },
 "nbformat": 4,
 "nbformat_minor": 2
}
